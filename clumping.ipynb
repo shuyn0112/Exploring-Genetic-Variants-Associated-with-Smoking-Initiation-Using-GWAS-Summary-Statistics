{
 "cells": [
  {
   "cell_type": "code",
   "execution_count": 34,
   "id": "b93690d1",
   "metadata": {
    "vscode": {
     "languageId": "r"
    }
   },
   "outputs": [
    {
     "name": "stdout",
     "output_type": "stream",
     "text": [
      "\n",
      "The downloaded binary packages are in\n",
      "\t/var/folders/m5/0wg4jmc16qnb_0pxpgzhd_w80000gn/T//Rtmp0aR7S5/downloaded_packages\n",
      "\n",
      "The downloaded binary packages are in\n",
      "\t/var/folders/m5/0wg4jmc16qnb_0pxpgzhd_w80000gn/T//Rtmp0aR7S5/downloaded_packages\n",
      "\n",
      "The downloaded binary packages are in\n",
      "\t/var/folders/m5/0wg4jmc16qnb_0pxpgzhd_w80000gn/T//Rtmp0aR7S5/downloaded_packages\n"
     ]
    }
   ],
   "source": [
    "install.packages(\"bigsnpr\")\n",
    "install.packages(\"dplyr\")\n",
    "install.packages(\"readr\")\n",
    "\n",
    "library(bigsnpr)\n",
    "library(dplyr)\n",
    "library(readr)\n"
   ]
  },
  {
   "cell_type": "code",
   "execution_count": 35,
   "id": "c1c20bd2",
   "metadata": {
    "vscode": {
     "languageId": "r"
    }
   },
   "outputs": [],
   "source": [
    "ref_prefix <- \"1000G_20101123_v3_GIANT_chr1_23_minimacnamesifnotRS_CEU_MAF0.01\"\n",
    "gwas_file <- \"gwas_for_clumping.txt\"\n",
    "rds_file <- paste0(ref_prefix, \".rds\")\n",
    "if (!file.exists(rds_file)) {\n",
    "  snp_readBed(paste0(ref_prefix, \".bed\"))\n",
    "}"
   ]
  },
  {
   "cell_type": "code",
   "execution_count": 36,
   "id": "5171b351",
   "metadata": {
    "vscode": {
     "languageId": "r"
    }
   },
   "outputs": [],
   "source": [
    "obj <- snp_attach(rds_file)\n",
    "G <- obj$genotypes\n",
    "map <- obj$map\n",
    "names(map)[which(names(map) == \"marker.ID\")] <- \"rsid\""
   ]
  },
  {
   "cell_type": "code",
   "execution_count": 37,
   "id": "374452eb",
   "metadata": {
    "vscode": {
     "languageId": "r"
    }
   },
   "outputs": [
    {
     "name": "stdout",
     "output_type": "stream",
     "text": [
      "GWAS SNPs matched to reference panel: 7214 \n"
     ]
    }
   ],
   "source": [
    "gwas_df <- read_tsv(gwas_file, show_col_types = FALSE) %>%\n",
    "  rename(rsid = SNP, chromosome = CHR, position = BP, pval = P)\n",
    "  \n",
    "S <- rep(NA, nrow(map))\n",
    "matched <- match(map$rsid, gwas_df$rsid)\n",
    "S[!is.na(matched)] <- -log10(gwas_df$pval[matched[!is.na(matched)]])\n",
    "\n",
    "cat(\"GWAS SNPs matched to reference panel:\", sum(!is.na(S)), \"\\n\")"
   ]
  },
  {
   "cell_type": "code",
   "execution_count": 38,
   "id": "e80a20a4",
   "metadata": {
    "vscode": {
     "languageId": "r"
    }
   },
   "outputs": [
    {
     "name": "stdout",
     "output_type": "stream",
     "text": [
      "Clumped SNPs retained: 430409 \n"
     ]
    }
   ],
   "source": [
    "ind_keep <- snp_clumping(\n",
    "  G = G,\n",
    "  infos.chr = map$chromosome,\n",
    "  infos.pos = map$physical.pos,\n",
    "  S = S,\n",
    "  thr.r2 = 0.1,\n",
    "  size = 250,\n",
    "  ncores = 1\n",
    ")\n",
    "\n",
    "cat(\"Clumped SNPs retained:\", length(ind_keep), \"\\n\")\n"
   ]
  },
  {
   "cell_type": "code",
   "execution_count": 39,
   "id": "bd02b5e3",
   "metadata": {
    "vscode": {
     "languageId": "r"
    }
   },
   "outputs": [
    {
     "name": "stdout",
     "output_type": "stream",
     "text": [
      "Saved final clumped summary to clumped_snps.tsv\n"
     ]
    }
   ],
   "source": [
    "rsids_clumped <- map$rsid[ind_keep]\n",
    "lead_snps <- semi_join(gwas_df, tibble(rsid = rsids_clumped), by = \"rsid\")\n",
    "\n",
    "write_tsv(lead_snps, \"clumped_snps.tsv\")\n",
    "cat(\"Saved final clumped summary to clumped_snps.tsv\\n\")"
   ]
  },
  {
   "cell_type": "code",
   "execution_count": 40,
   "id": "9e4a7ff7",
   "metadata": {
    "vscode": {
     "languageId": "r"
    }
   },
   "outputs": [
    {
     "name": "stderr",
     "output_type": "stream",
     "text": [
      "'getOption(\"repos\")' replaces Bioconductor standard repositories, see\n",
      "'help(\"repositories\", package = \"BiocManager\")' for details.\n",
      "Replacement repositories:\n",
      "    CRAN: https://cran.r-project.org\n",
      "\n",
      "Bioconductor version 3.20 (BiocManager 1.30.25), R 4.4.1 (2024-06-14)\n",
      "\n",
      "Warning message:\n",
      "\"package(s) not installed when version(s) same as or greater than current; use\n",
      "  `force = TRUE` to re-install: 'biomaRt'\"\n",
      "Old packages: 'BiocParallel', 'Matrix', 'R.cache', 'R.oo', 'RcppArmadillo',\n",
      "  'cli', 'cluster', 'commonmark', 'curl', 'foreign', 'fs', 'ggplot2',\n",
      "  'jsonlite', 'knitr', 'lattice', 'mgcv', 'mime', 'nlme', 'pbdZMQ', 'pillar',\n",
      "  'pkgbuild', 'ps', 'rlang', 'sass', 'scales', 'stringi', 'tinytex', 'utf8',\n",
      "  'xfun', 'xml2'\n",
      "\n"
     ]
    }
   ],
   "source": [
    "if (!require(\"BiocManager\", quietly = TRUE))\n",
    "    install.packages(\"BiocManager\")\n",
    "\n",
    "BiocManager::install(\"biomaRt\")"
   ]
  },
  {
   "cell_type": "code",
   "execution_count": 45,
   "id": "8200fb7a",
   "metadata": {
    "vscode": {
     "languageId": "r"
    }
   },
   "outputs": [
    {
     "data": {
      "text/html": [
       "<table class=\"dataframe\">\n",
       "<caption>A data.frame: 6 x 4</caption>\n",
       "<thead>\n",
       "\t<tr><th></th><th scope=col>rsid</th><th scope=col>chromosome</th><th scope=col>position</th><th scope=col>pval</th></tr>\n",
       "\t<tr><th></th><th scope=col>&lt;chr&gt;</th><th scope=col>&lt;int&gt;</th><th scope=col>&lt;int&gt;</th><th scope=col>&lt;dbl&gt;</th></tr>\n",
       "</thead>\n",
       "<tbody>\n",
       "\t<tr><th scope=row>1</th><td>rs301805  </td><td>1</td><td> 8481016</td><td>2.800013e-09</td></tr>\n",
       "\t<tr><th scope=row>2</th><td>rs3001723 </td><td>1</td><td>44037685</td><td>8.120822e-18</td></tr>\n",
       "\t<tr><th scope=row>3</th><td>rs58097944</td><td>1</td><td>44054994</td><td>4.060037e-10</td></tr>\n",
       "\t<tr><th scope=row>4</th><td>rs1343432 </td><td>1</td><td>49396989</td><td>2.000000e-08</td></tr>\n",
       "\t<tr><th scope=row>5</th><td>rs6669839 </td><td>1</td><td>50625979</td><td>3.360006e-09</td></tr>\n",
       "\t<tr><th scope=row>6</th><td>rs2186122 </td><td>1</td><td>66470206</td><td>3.609940e-13</td></tr>\n",
       "</tbody>\n",
       "</table>\n"
      ],
      "text/latex": [
       "A data.frame: 6 x 4\n",
       "\\begin{tabular}{r|llll}\n",
       "  & rsid & chromosome & position & pval\\\\\n",
       "  & <chr> & <int> & <int> & <dbl>\\\\\n",
       "\\hline\n",
       "\t1 & rs301805   & 1 &  8481016 & 2.800013e-09\\\\\n",
       "\t2 & rs3001723  & 1 & 44037685 & 8.120822e-18\\\\\n",
       "\t3 & rs58097944 & 1 & 44054994 & 4.060037e-10\\\\\n",
       "\t4 & rs1343432  & 1 & 49396989 & 2.000000e-08\\\\\n",
       "\t5 & rs6669839  & 1 & 50625979 & 3.360006e-09\\\\\n",
       "\t6 & rs2186122  & 1 & 66470206 & 3.609940e-13\\\\\n",
       "\\end{tabular}\n"
      ],
      "text/markdown": [
       "\n",
       "A data.frame: 6 x 4\n",
       "\n",
       "| <!--/--> | rsid &lt;chr&gt; | chromosome &lt;int&gt; | position &lt;int&gt; | pval &lt;dbl&gt; |\n",
       "|---|---|---|---|---|\n",
       "| 1 | rs301805   | 1 |  8481016 | 2.800013e-09 |\n",
       "| 2 | rs3001723  | 1 | 44037685 | 8.120822e-18 |\n",
       "| 3 | rs58097944 | 1 | 44054994 | 4.060037e-10 |\n",
       "| 4 | rs1343432  | 1 | 49396989 | 2.000000e-08 |\n",
       "| 5 | rs6669839  | 1 | 50625979 | 3.360006e-09 |\n",
       "| 6 | rs2186122  | 1 | 66470206 | 3.609940e-13 |\n",
       "\n"
      ],
      "text/plain": [
       "  rsid       chromosome position pval        \n",
       "1 rs301805   1           8481016 2.800013e-09\n",
       "2 rs3001723  1          44037685 8.120822e-18\n",
       "3 rs58097944 1          44054994 4.060037e-10\n",
       "4 rs1343432  1          49396989 2.000000e-08\n",
       "5 rs6669839  1          50625979 3.360006e-09\n",
       "6 rs2186122  1          66470206 3.609940e-13"
      ]
     },
     "metadata": {},
     "output_type": "display_data"
    },
    {
     "data": {
      "text/html": [
       "<table class=\"dataframe\">\n",
       "<caption>A data.frame: 6 x 4</caption>\n",
       "<thead>\n",
       "\t<tr><th></th><th scope=col>refsnp_id</th><th scope=col>chr_name</th><th scope=col>chrom_start</th><th scope=col>allele</th></tr>\n",
       "\t<tr><th></th><th scope=col>&lt;chr&gt;</th><th scope=col>&lt;chr&gt;</th><th scope=col>&lt;int&gt;</th><th scope=col>&lt;chr&gt;</th></tr>\n",
       "</thead>\n",
       "<tbody>\n",
       "\t<tr><th scope=row>1</th><td>rs3001723 </td><td>1</td><td>43572014</td><td>G/A  </td></tr>\n",
       "\t<tr><th scope=row>2</th><td>rs7555507 </td><td>1</td><td>73300354</td><td>C/G/T</td></tr>\n",
       "\t<tr><th scope=row>3</th><td>rs301805  </td><td>1</td><td> 8420956</td><td>T/C/G</td></tr>\n",
       "\t<tr><th scope=row>4</th><td>rs1343432 </td><td>1</td><td>48931317</td><td>G/C  </td></tr>\n",
       "\t<tr><th scope=row>5</th><td>rs12139556</td><td>1</td><td>73284243</td><td>T/C  </td></tr>\n",
       "\t<tr><th scope=row>6</th><td>rs12144768</td><td>1</td><td>72843322</td><td>G/A  </td></tr>\n",
       "</tbody>\n",
       "</table>\n"
      ],
      "text/latex": [
       "A data.frame: 6 x 4\n",
       "\\begin{tabular}{r|llll}\n",
       "  & refsnp\\_id & chr\\_name & chrom\\_start & allele\\\\\n",
       "  & <chr> & <chr> & <int> & <chr>\\\\\n",
       "\\hline\n",
       "\t1 & rs3001723  & 1 & 43572014 & G/A  \\\\\n",
       "\t2 & rs7555507  & 1 & 73300354 & C/G/T\\\\\n",
       "\t3 & rs301805   & 1 &  8420956 & T/C/G\\\\\n",
       "\t4 & rs1343432  & 1 & 48931317 & G/C  \\\\\n",
       "\t5 & rs12139556 & 1 & 73284243 & T/C  \\\\\n",
       "\t6 & rs12144768 & 1 & 72843322 & G/A  \\\\\n",
       "\\end{tabular}\n"
      ],
      "text/markdown": [
       "\n",
       "A data.frame: 6 x 4\n",
       "\n",
       "| <!--/--> | refsnp_id &lt;chr&gt; | chr_name &lt;chr&gt; | chrom_start &lt;int&gt; | allele &lt;chr&gt; |\n",
       "|---|---|---|---|---|\n",
       "| 1 | rs3001723  | 1 | 43572014 | G/A   |\n",
       "| 2 | rs7555507  | 1 | 73300354 | C/G/T |\n",
       "| 3 | rs301805   | 1 |  8420956 | T/C/G |\n",
       "| 4 | rs1343432  | 1 | 48931317 | G/C   |\n",
       "| 5 | rs12139556 | 1 | 73284243 | T/C   |\n",
       "| 6 | rs12144768 | 1 | 72843322 | G/A   |\n",
       "\n"
      ],
      "text/plain": [
       "  refsnp_id  chr_name chrom_start allele\n",
       "1 rs3001723  1        43572014    G/A   \n",
       "2 rs7555507  1        73300354    C/G/T \n",
       "3 rs301805   1         8420956    T/C/G \n",
       "4 rs1343432  1        48931317    G/C   \n",
       "5 rs12139556 1        73284243    T/C   \n",
       "6 rs12144768 1        72843322    G/A   "
      ]
     },
     "metadata": {},
     "output_type": "display_data"
    }
   ],
   "source": [
    "library(biomaRt)\n",
    "\n",
    "\n",
    "df <- read.table(\"clumped_snps.tsv\", header = TRUE) \n",
    "head(df)\n",
    "snp_mart <- useEnsembl(biomart = \"snp\", dataset = \"hsapiens_snp\")\n",
    "\n",
    "snp_info <- getBM(\n",
    "  attributes = c(\"refsnp_id\", \"chr_name\", \"chrom_start\", \"allele\"),\n",
    "  filters = \"snp_filter\",\n",
    "  values = df$rsid,\n",
    "  mart = snp_mart\n",
    ")\n",
    "\n",
    "head(snp_info)\n"
   ]
  },
  {
   "cell_type": "code",
   "execution_count": null,
   "id": "948acac7",
   "metadata": {
    "vscode": {
     "languageId": "r"
    }
   },
   "outputs": [
    {
     "name": "stderr",
     "output_type": "stream",
     "text": [
      "Warning message:\n",
      "\"\u001b[1m\u001b[22mExpected 2 pieces. Additional pieces discarded in 80 rows [2, 3, 7, 8, 13, 15,\n",
      "16, 19, 20, 22, 23, 26, 28, 30, 31, 32, 33, 34, 35, 36, ...].\"\n"
     ]
    }
   ],
   "source": [
    "library(tidyr)\n",
    "snp_info <- separate(snp_info, allele, into = c(\"ref\", \"alt\"), sep = \"/\", remove = FALSE)\n",
    "\n",
    "snp_info <- snp_info[!grepl(\"/\", snp_info$alt), ]  \n",
    "\n",
    "colnames(snp_info)[colnames(snp_info) == \"refsnp_id\"] <- \"rsid\"\n",
    "\n",
    "df_annotated <- merge(df, snp_info[, c(\"rsid\", \"ref\", \"alt\")], by = \"rsid\", all.x = TRUE)\n",
    "write.table(df_annotated, \"annotated_snps.tsv\", sep = \"\\t\", quote = FALSE, row.names = FALSE)\n"
   ]
  }
 ],
 "metadata": {
  "kernelspec": {
   "display_name": "R",
   "language": "R",
   "name": "ir"
  },
  "language_info": {
   "codemirror_mode": "r",
   "file_extension": ".r",
   "mimetype": "text/x-r-source",
   "name": "R",
   "pygments_lexer": "r",
   "version": "4.4.1"
  }
 },
 "nbformat": 4,
 "nbformat_minor": 5
}
